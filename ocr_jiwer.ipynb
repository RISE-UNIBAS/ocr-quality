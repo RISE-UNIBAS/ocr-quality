{
  "cells": [
    {
      "cell_type": "markdown",
      "metadata": {
        "id": "QUcLijUK9LOq"
      },
      "source": [
        "# Script in Python to compute CER\n",
        "\n",
        "**Documentation**: https://jitsi.github.io/jiwer/usage/"
      ]
    },
    {
      "cell_type": "markdown",
      "metadata": {},
      "source": [
        "## Install jiwer"
      ]
    },
    {
      "cell_type": "code",
      "execution_count": null,
      "metadata": {
        "colab": {
          "base_uri": "https://localhost:8080/"
        },
        "id": "iuxV37Gg9IJ_",
        "outputId": "22a6346c-a2bf-4eb4-abcf-8b7ab8bcda18"
      },
      "outputs": [],
      "source": [
        "!pip install jiwer\n",
        "\n",
        "from jiwer import cer, process_characters, visualize_alignment"
      ]
    },
    {
      "cell_type": "markdown",
      "metadata": {},
      "source": [
        "## Load texts"
      ]
    },
    {
      "cell_type": "code",
      "execution_count": 9,
      "metadata": {},
      "outputs": [],
      "source": [
        "file = open(\"data/text_controlled_level0_pag-715.txt\", \"r\")\n",
        "reference = file.read()\n",
        "\n",
        "file = open(\"data/ocr_text_pag-715_google.txt\", \"r\")\n",
        "hypothesis = file.read()"
      ]
    },
    {
      "cell_type": "markdown",
      "metadata": {},
      "source": [
        "## Calculate CER"
      ]
    },
    {
      "cell_type": "code",
      "execution_count": 10,
      "metadata": {},
      "outputs": [
        {
          "name": "stdout",
          "output_type": "stream",
          "text": [
            "0.016233766233766232\n"
          ]
        }
      ],
      "source": [
        "output = process_characters(reference, hypothesis)\n",
        "error = output.cer\n",
        "print(error)"
      ]
    },
    {
      "cell_type": "markdown",
      "metadata": {},
      "source": [
        "## Calculate CER and show alignment"
      ]
    },
    {
      "cell_type": "code",
      "execution_count": null,
      "metadata": {},
      "outputs": [],
      "source": [
        "print(visualize_alignment(output))"
      ]
    }
  ],
  "metadata": {
    "colab": {
      "provenance": []
    },
    "kernelspec": {
      "display_name": "Python 3.9.12 ('base')",
      "language": "python",
      "name": "python3"
    },
    "language_info": {
      "codemirror_mode": {
        "name": "ipython",
        "version": 3
      },
      "file_extension": ".py",
      "mimetype": "text/x-python",
      "name": "python",
      "nbconvert_exporter": "python",
      "pygments_lexer": "ipython3",
      "version": "3.9.12"
    },
    "vscode": {
      "interpreter": {
        "hash": "3d597f4c481aa0f25dceb95d2a0067e73c0966dcbd003d741d821a7208527ecf"
      }
    }
  },
  "nbformat": 4,
  "nbformat_minor": 0
}
